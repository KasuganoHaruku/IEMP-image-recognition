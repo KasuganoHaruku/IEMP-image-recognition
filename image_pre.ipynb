{
 "cells": [
  {
   "cell_type": "code",
   "execution_count": 1,
   "metadata": {},
   "outputs": [],
   "source": [
    "from PIL import Image\n",
    "import os\n",
    "\n",
    "def resize_and_crop_images(input_dir, output_dir):\n",
    "    if not os.path.exists(output_dir):\n",
    "        os.makedirs(output_dir)\n",
    "\n",
    "    image_list = os.listdir(input_dir)\n",
    "    image_list.sort()\n",
    "\n",
    "    for i, image_name in enumerate(image_list):\n",
    "        image_path = os.path.join(input_dir, image_name)\n",
    "        image = Image.open(image_path)\n",
    "\n",
    "        # cut into square\n",
    "        min_side = min(image.width, image.height)\n",
    "        left = (image.width - min_side) // 2\n",
    "        top = (image.height - min_side) // 2\n",
    "        right = left + min_side\n",
    "        bottom = top + min_side\n",
    "        image = image.crop((left, top, right, bottom))\n",
    "\n",
    "        # resize\n",
    "        image = image.resize((512, 512), Image.LANCZOS)\n",
    "\n",
    "        # save and name images\n",
    "        output_path = os.path.join(output_dir, f\"image_{str(i+1).zfill(5)}.jpg\")\n",
    "        image.save(output_path)\n",
    "\n",
    "if __name__ == \"__main__\":\n",
    "    input_directory_city = \"city_input\"  \n",
    "    input_directory_nature = \"nature_input\"  \n",
    "    output_directory_city = \"dataset_1/city\"  \n",
    "    output_directory_nature = \"dataset_1/nature\"  \n",
    "\n",
    "    resize_and_crop_images(input_directory_city, output_directory_city)\n",
    "    resize_and_crop_images(input_directory_nature, output_directory_nature)\n"
   ]
  }
 ],
 "metadata": {
  "kernelspec": {
   "display_name": "base",
   "language": "python",
   "name": "python3"
  },
  "language_info": {
   "codemirror_mode": {
    "name": "ipython",
    "version": 3
   },
   "file_extension": ".py",
   "mimetype": "text/x-python",
   "name": "python",
   "nbconvert_exporter": "python",
   "pygments_lexer": "ipython3",
   "version": "3.11.4"
  },
  "orig_nbformat": 4
 },
 "nbformat": 4,
 "nbformat_minor": 2
}
