{
 "cells": [
  {
   "cell_type": "code",
   "execution_count": 2,
   "metadata": {},
   "outputs": [
    {
     "name": "stderr",
     "output_type": "stream",
     "text": [
      "c:\\Users\\haruk\\anaconda3\\Lib\\site-packages\\paramiko\\transport.py:219: CryptographyDeprecationWarning: Blowfish has been deprecated\n",
      "  \"class\": algorithms.Blowfish,\n"
     ]
    }
   ],
   "source": [
    "from skimage import feature, exposure\n",
    "import cv2\n",
    "import os\n",
    "import numpy as np\n",
    "\n",
    "city_path = 'dataset_1/city'\n",
    "nature_path = 'dataset_1/nature'\n",
    "\n",
    "features_list = []\n",
    "labels_list = []\n",
    "\n",
    "for filename in os.listdir(city_path):\n",
    "        if filename.lower().endswith(('.png', '.jpg', '.jpeg')):\n",
    "                image_path = city_path + \"/\" + filename\n",
    "                image = cv2.imread(image_path,cv2.IMREAD_GRAYSCALE)\n",
    "                fd = feature.hog(image, orientations=9, pixels_per_cell=(8,8),\n",
    "                                           cells_per_block=(2, 2), visualize=False)\n",
    "                features_list.append(fd)\n",
    "                labels_list.append(\"city\")\n",
    "            \n",
    "for filename in os.listdir(nature_path):\n",
    "        if filename.lower().endswith(('.png', '.jpg', '.jpeg')):\n",
    "                image_path = nature_path + \"/\" + filename\n",
    "                image = cv2.imread(image_path, cv2.IMREAD_GRAYSCALE)\n",
    "                fd = feature.hog(image, orientations=9, pixels_per_cell=(8, 8),\n",
    "                                 cells_per_block=(2, 2), visualize=False)\n",
    "                features_list.append(fd)\n",
    "                labels_list.append(\"nature\")\n",
    "\n",
    "# 将特征向量和标签转换为NumPy数组\n",
    "features = np.array(features_list)\n",
    "labels = np.array(labels_list)\n",
    "\n",
    "# 将特征向量和标签保存到文件中\n",
    "np.savez('features_and_labels.npz', features=features, labels=labels)\n",
    "\n",
    "\n",
    "\n",
    "\n"
   ]
  },
  {
   "cell_type": "code",
   "execution_count": 3,
   "metadata": {},
   "outputs": [
    {
     "name": "stdout",
     "output_type": "stream",
     "text": [
      "Keys in the npz file: ['features', 'labels']\n",
      "Features shape: (94, 142884)\n",
      "Labels shape: (94,)\n",
      "First feature vector:\n",
      "[0.03479365 0.02450004 0.01793989 ... 0.25398328 0.01969097 0.04207404]\n",
      "First label:\n",
      "city\n"
     ]
    }
   ],
   "source": [
    "import numpy as np\n",
    "\n",
    "if __name__ == \"__main__\":\n",
    "    npz_file = \"features_and_labels.npz\"\n",
    "\n",
    "    # 使用np.load加载npz文件\n",
    "    loaded_data = np.load(npz_file)\n",
    "\n",
    "    # 查看npz文件中的所有键\n",
    "    print(\"Keys in the npz file:\", list(loaded_data.keys()))\n",
    "\n",
    "    # 获取特征向量数组和标签数组\n",
    "    features = loaded_data['features']\n",
    "    labels = loaded_data['labels']\n",
    "\n",
    "    # 查看特征向量和标签的形状\n",
    "    print(\"Features shape:\", features.shape)\n",
    "    print(\"Labels shape:\", labels.shape)\n",
    "\n",
    "    # 查看第一个特征向量和标签\n",
    "    print(\"First feature vector:\")\n",
    "    print(features[5])\n",
    "    print(\"First label:\")\n",
    "    print(labels[5])\n"
   ]
  },
  {
   "cell_type": "code",
   "execution_count": 4,
   "metadata": {},
   "outputs": [
    {
     "name": "stdout",
     "output_type": "stream",
     "text": [
      "模型准确率： 0.8421052631578947\n"
     ]
    }
   ],
   "source": [
    "import numpy as np\n",
    "from sklearn.model_selection import train_test_split\n",
    "from sklearn.svm import SVC\n",
    "from sklearn.metrics import accuracy_score\n",
    "import joblib\n",
    "\n",
    "if __name__ == \"__main__\":\n",
    "    npz_file = \"features_and_labels.npz\"\n",
    "\n",
    "    # 使用np.load加载npz文件\n",
    "    loaded_data = np.load(npz_file)\n",
    "\n",
    "    # 获取特征向量数组和标签数组\n",
    "    features = loaded_data['features']\n",
    "    labels = loaded_data['labels']\n",
    "\n",
    "    # 划分训练集和测试集\n",
    "    X_train, X_test, y_train, y_test = train_test_split(features, labels, test_size=0.2, random_state=42)\n",
    "\n",
    "    # 创建并训练SVM分类器\n",
    "    svm_classifier = SVC(kernel='linear', C=1.0, random_state=42)\n",
    "    svm_classifier.fit(X_train, y_train)\n",
    "\n",
    "    # 保存模型到文件\n",
    "    model_filename = \"svm_model.joblib\"\n",
    "    joblib.dump(svm_classifier, model_filename)\n",
    "\n",
    "    # 加载模型\n",
    "    loaded_model = joblib.load(model_filename)\n",
    "\n",
    "    # 使用加载的模型进行预测\n",
    "    y_pred_loaded = loaded_model.predict(X_test)\n",
    "\n",
    "    accuracy = accuracy_score(y_test, y_pred_loaded)\n",
    "    print(\"模型准确率：\", accuracy)"
   ]
  },
  {
   "cell_type": "code",
   "execution_count": null,
   "metadata": {},
   "outputs": [],
   "source": []
  }
 ],
 "metadata": {
  "kernelspec": {
   "display_name": "base",
   "language": "python",
   "name": "python3"
  },
  "language_info": {
   "codemirror_mode": {
    "name": "ipython",
    "version": 3
   },
   "file_extension": ".py",
   "mimetype": "text/x-python",
   "name": "python",
   "nbconvert_exporter": "python",
   "pygments_lexer": "ipython3",
   "version": "3.11.4"
  },
  "orig_nbformat": 4
 },
 "nbformat": 4,
 "nbformat_minor": 2
}
