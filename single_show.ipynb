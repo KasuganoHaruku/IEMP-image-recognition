{
 "cells": [
  {
   "cell_type": "code",
   "execution_count": 1,
   "metadata": {},
   "outputs": [
    {
     "name": "stderr",
     "output_type": "stream",
     "text": [
      "c:\\Users\\haruk\\anaconda3\\Lib\\site-packages\\paramiko\\transport.py:219: CryptographyDeprecationWarning: Blowfish has been deprecated\n",
      "  \"class\": algorithms.Blowfish,\n"
     ]
    },
    {
     "name": "stdout",
     "output_type": "stream",
     "text": [
      "dataset_1/city/image_00001.jpg\n"
     ]
    }
   ],
   "source": [
    "from skimage import feature, exposure\n",
    "import cv2\n",
    "import os\n",
    "\n",
    "city_path = 'dataset_1/city'\n",
    "nature_path = 'dataset_1/nature'\n",
    "\n",
    "\n",
    "\n",
    "for filename in os.listdir(city_path):\n",
    "        # 检查文件是否是图片文件（这里只处理常见的图片格式，您可以根据需要进行扩展）\n",
    "        if filename.lower().endswith(('.png', '.jpg', '.jpeg')):\n",
    "            image_path = city_path + \"/\" + filename\n",
    "            print(image_path)\n",
    "            image = cv2.imread(image_path,cv2.IMREAD_GRAYSCALE)\n",
    "            fd,hog_image = feature.hog(image, orientations=9, pixels_per_cell=(8,8),\n",
    "                    cells_per_block=(2, 2), visualize=True)\n",
    "            \n",
    "            # Rescale histogram for better display\n",
    "            hog_image_rescaled = exposure.rescale_intensity(hog_image, in_range=(0, 40))\n",
    "            cv2.imshow('hog', hog_image_rescaled)\n",
    "            cv2.imshow('origin', image)\n",
    "            cv2.waitKey(0)==ord('q')"
   ]
  }
 ],
 "metadata": {
  "kernelspec": {
   "display_name": "base",
   "language": "python",
   "name": "python3"
  },
  "language_info": {
   "codemirror_mode": {
    "name": "ipython",
    "version": 3
   },
   "file_extension": ".py",
   "mimetype": "text/x-python",
   "name": "python",
   "nbconvert_exporter": "python",
   "pygments_lexer": "ipython3",
   "version": "3.11.4"
  },
  "orig_nbformat": 4
 },
 "nbformat": 4,
 "nbformat_minor": 2
}
