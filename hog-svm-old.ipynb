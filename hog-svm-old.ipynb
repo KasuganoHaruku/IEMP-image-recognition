{
 "cells": [
  {
   "cell_type": "code",
   "execution_count": 23,
   "metadata": {},
   "outputs": [],
   "source": [
    "from skimage import feature\n",
    "import cv2\n",
    "import os\n",
    "import numpy as np\n",
    "from sklearn.model_selection import train_test_split\n",
    "from sklearn.svm import SVC\n",
    "from sklearn.metrics import accuracy_score\n",
    "from sklearn.model_selection import cross_val_score\n",
    "from sklearn import datasets\n",
    "import joblib\n",
    "from sklearn.model_selection import cross_val_score\n",
    "\n",
    "label_group = ['city','nature','old']\n",
    "features_list = []\n",
    "labels_list = []\n",
    "\n",
    "for i in range(0,3):\n",
    "        # Get image features of city images\n",
    "        read_path = 'dataset_1/'+label_group[i]\n",
    "        for filename in os.listdir(read_path):\n",
    "                if filename.lower().endswith(('.png', '.jpg', '.jpeg')):\n",
    "                        image_path = read_path + \"/\" + filename\n",
    "                        image = cv2.imread(image_path,cv2.IMREAD_GRAYSCALE)\n",
    "                        fd = feature.hog(image, orientations=9, pixels_per_cell=(8,8),\n",
    "                                                cells_per_block=(2, 2), visualize=False)\n",
    "                        features_list.append(fd)\n",
    "                        labels_list.append(label_group[i])\n",
    "                \n",
    "# Turn features and labels into NumPy array\n",
    "features = np.array(features_list)\n",
    "labels = np.array(labels_list)\n",
    "state = np.random.get_state()\n",
    "np.random.shuffle(features)\n",
    "np.random.set_state(state)\n",
    "np.random.shuffle(labels)\n",
    "\n",
    "\n",
    "# Save the array as .npz file\n",
    "np.savez('hog_old_features_and_labels.npz', features=features, labels=labels)\n",
    "\n",
    "\n",
    "\n",
    "\n"
   ]
  },
  {
   "cell_type": "code",
   "execution_count": 24,
   "metadata": {},
   "outputs": [
    {
     "name": "stdout",
     "output_type": "stream",
     "text": [
      "Keys in the npz file: ['features', 'labels']\n",
      "Features shape: (257, 142884)\n",
      "Labels shape: (257,)\n",
      "Feature vector:\n",
      "[0.23609903 0.23018251 0.10052838 ... 0.24299501 0.12131064 0.09769914]\n",
      "Label:\n",
      "nature\n"
     ]
    }
   ],
   "source": [
    "if __name__ == \"__main__\":\n",
    "    npz_file = \"hog_old_features_and_labels.npz\"\n",
    "\n",
    "    # Load npz file\n",
    "    loaded_data = np.load(npz_file)\n",
    "\n",
    "    # Show keys in the file\n",
    "    print(\"Keys in the npz file:\", list(loaded_data.keys()))\n",
    "\n",
    "    # Load features and labels array\n",
    "    features = loaded_data['features']\n",
    "    labels = loaded_data['labels']\n",
    "\n",
    "    # Show features and labels size\n",
    "    print(\"Features shape:\", features.shape)\n",
    "    print(\"Labels shape:\", labels.shape)\n",
    "\n",
    "    # Show one feature vector and its label\n",
    "    print(\"Feature vector:\")\n",
    "    print(features[5])\n",
    "    print(\"Label:\")\n",
    "    print(labels[5])\n"
   ]
  },
  {
   "cell_type": "code",
   "execution_count": 25,
   "metadata": {},
   "outputs": [
    {
     "name": "stdout",
     "output_type": "stream",
     "text": [
      "Scores: [0.80769231 0.82692308 0.74509804 0.78431373 0.74509804]\n",
      "Accuracy: 0.7307692307692307\n"
     ]
    }
   ],
   "source": [
    "if __name__ == \"__main__\":\n",
    "    npz_file = \"hog_old_features_and_labels.npz\"\n",
    "\n",
    "    # Load npz file\n",
    "    loaded_data = np.load(npz_file)\n",
    "\n",
    "    # Load features and labels array\n",
    "    features = loaded_data['features']\n",
    "    labels = loaded_data['labels']\n",
    "\n",
    "    X = features\n",
    "    y = labels\n",
    "\n",
    "    # Create SVM model\n",
    "    svm_classifier = SVC(kernel='linear', C=1.0, random_state=43)\n",
    "    \n",
    "    # Cross validation\n",
    "    scores = cross_val_score(svm_classifier, X, y, cv=5)\n",
    "    print(\"Scores:\", scores)\n",
    "    \n",
    "    # Divide train and test dataset\n",
    "    X_train, X_test, y_train, y_test = train_test_split(features, labels, test_size=0.2, random_state=43)\n",
    "    svm_classifier.fit(X_train, y_train)\n",
    "\n",
    "    # Save model as a file\n",
    "    model_filename = \"hog_old_svm_model.joblib\"\n",
    "    joblib.dump(svm_classifier, model_filename)\n",
    "\n",
    "    # Load saved model\n",
    "    loaded_model = joblib.load(model_filename)\n",
    "\n",
    "    # Predict using loaded model\n",
    "    y_pred_loaded = loaded_model.predict(X_test)\n",
    "    accuracy = accuracy_score(y_test, y_pred_loaded)\n",
    "    print(\"Accuracy:\", accuracy)"
   ]
  },
  {
   "cell_type": "code",
   "execution_count": null,
   "metadata": {},
   "outputs": [],
   "source": []
  }
 ],
 "metadata": {
  "kernelspec": {
   "display_name": "base",
   "language": "python",
   "name": "python3"
  },
  "language_info": {
   "codemirror_mode": {
    "name": "ipython",
    "version": 3
   },
   "file_extension": ".py",
   "mimetype": "text/x-python",
   "name": "python",
   "nbconvert_exporter": "python",
   "pygments_lexer": "ipython3",
   "version": "3.11.4"
  },
  "orig_nbformat": 4
 },
 "nbformat": 4,
 "nbformat_minor": 2
}
